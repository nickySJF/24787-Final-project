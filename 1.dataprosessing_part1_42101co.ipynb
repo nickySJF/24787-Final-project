{
 "cells": [
  {
   "cell_type": "markdown",
   "id": "34d8abe4",
   "metadata": {},
   "source": [
    "# Data Preprocessing (Part 1)"
   ]
  },
  {
   "cell_type": "code",
   "execution_count": null,
   "id": "fb71b18d",
   "metadata": {},
   "outputs": [],
   "source": [
    "# pip install pyspark"
   ]
  },
  {
   "cell_type": "code",
   "execution_count": null,
   "id": "a6e82b51",
   "metadata": {},
   "outputs": [],
   "source": [
    "# conda install -c cyclus java-jdk"
   ]
  },
  {
   "cell_type": "code",
   "execution_count": 1,
   "id": "7c74b286",
   "metadata": {},
   "outputs": [
    {
     "name": "stdout",
     "output_type": "stream",
     "text": [
      "22/12/07 12:38:00 WARN Utils: Your hostname, clark-hainenghuang-PC resolves to a loopback address: 127.0.1.1; using 192.168.0.88 instead (on interface enp7s0)\n",
      "22/12/07 12:38:00 WARN Utils: Set SPARK_LOCAL_IP if you need to bind to another address\n"
     ]
    },
    {
     "name": "stderr",
     "output_type": "stream",
     "text": [
      "Setting default log level to \"WARN\".\n",
      "To adjust logging level use sc.setLogLevel(newLevel). For SparkR, use setLogLevel(newLevel).\n"
     ]
    },
    {
     "name": "stdout",
     "output_type": "stream",
     "text": [
      "22/12/07 12:38:00 WARN NativeCodeLoader: Unable to load native-hadoop library for your platform... using builtin-java classes where applicable\n"
     ]
    },
    {
     "data": {
      "text/html": [
       "\n",
       "            <div>\n",
       "                <p><b>SparkSession - in-memory</b></p>\n",
       "                \n",
       "        <div>\n",
       "            <p><b>SparkContext</b></p>\n",
       "\n",
       "            <p><a href=\"http://192.168.0.88:4050\">Spark UI</a></p>\n",
       "\n",
       "            <dl>\n",
       "              <dt>Version</dt>\n",
       "                <dd><code>v3.3.0</code></dd>\n",
       "              <dt>Master</dt>\n",
       "                <dd><code>local</code></dd>\n",
       "              <dt>AppName</dt>\n",
       "                <dd><code>Spark in Anoconda</code></dd>\n",
       "            </dl>\n",
       "        </div>\n",
       "        \n",
       "            </div>\n",
       "        "
      ],
      "text/plain": [
       "<pyspark.sql.session.SparkSession at 0x7fbb441eddf0>"
      ]
     },
     "execution_count": 1,
     "metadata": {},
     "output_type": "execute_result"
    }
   ],
   "source": [
    "from pyspark.sql import SparkSession\n",
    "spark = SparkSession.builder\\\n",
    "        .master(\"local\")\\\n",
    "        .appName(\"Spark in Anoconda\")\\\n",
    "        .config('spark.ui.port', '4050')\\\n",
    "        .getOrCreate()\n",
    "\n",
    "spark"
   ]
  },
  {
   "cell_type": "code",
   "execution_count": 2,
   "id": "09e6baaa",
   "metadata": {},
   "outputs": [],
   "source": [
    "import pyspark.sql.functions as F\n",
    "from pyspark.sql.window import Window\n",
    "import pandas as pd\n",
    "import numpy as np\n",
    "import matplotlib.pyplot as plt"
   ]
  },
  {
   "cell_type": "markdown",
   "id": "b5b2bc0c",
   "metadata": {},
   "source": [
    "# Download all csv files containing API from 2015 to 2021, and merge them into one dataframe. All rows (days) that have no data recorded are stripped."
   ]
  },
  {
   "cell_type": "code",
   "execution_count": 3,
   "id": "b29b1210",
   "metadata": {},
   "outputs": [
    {
     "name": "stdout",
     "output_type": "stream",
     "text": [
      "共发现7个CSV文件\n",
      "正在处理............\n",
      "合并完毕！\n"
     ]
    }
   ],
   "source": [
    "import numpy as np\n",
    "import pandas as pd\n",
    "import glob\n",
    "import re\n",
    " \n",
    "csv_list = glob.glob('*.csv')\n",
    "print('There are %s个CSV文件'% len(csv_list))\n",
    "print('正在处理............')\n",
    "for i in csv_list:\n",
    "    fr = open(i,'r',encoding='utf-8').read()\n",
    "    with open('c.csv','a',encoding='utf-8') as f:\n",
    "        f.write(fr)\n",
    "print('合并完毕！')"
   ]
  },
  {
   "cell_type": "code",
   "execution_count": 4,
   "id": "f34dffce",
   "metadata": {},
   "outputs": [
    {
     "name": "stderr",
     "output_type": "stream",
     "text": [
      "                                                                                \r"
     ]
    }
   ],
   "source": [
    "df = spark.read.csv(\"c.csv\", header=True, inferSchema=True)\n",
    "#df = spark.read.csv(\"file:///C:/Users/John/OneDrive/fall 2022/24787 machine learning/Project/data-后/44201.csv\", header=True, inferSchema=True)"
   ]
  },
  {
   "cell_type": "code",
   "execution_count": 5,
   "id": "5ed38e34",
   "metadata": {},
   "outputs": [],
   "source": [
    "df_c = df.groupBy(\"Latitude\",\"Longitude\",\"Event Type\",\"POC\").count().filter(df[\"Event Type\"]=='None').orderBy([\"Latitude\",\"Longitude\"])"
   ]
  },
  {
   "cell_type": "code",
   "execution_count": 6,
   "id": "6947c775",
   "metadata": {},
   "outputs": [
    {
     "name": "stderr",
     "output_type": "stream",
     "text": [
      "[Stage 2:============================================>              (3 + 1) / 4]\r"
     ]
    },
    {
     "name": "stdout",
     "output_type": "stream",
     "text": [
      "+---------+-----------+----------+---+-----+\n",
      "| Latitude|  Longitude|Event Type|POC|count|\n",
      "+---------+-----------+----------+---+-----+\n",
      "|18.009558| -66.627249|      None|  1| 3608|\n",
      "|18.198712| -66.052237|      None|  1| 2436|\n",
      "|18.420089| -66.150615|      None|  1| 2529|\n",
      "|18.422595| -66.120012|      None|  1| 3037|\n",
      "|18.449814|  -66.05251|      None|  1| 2873|\n",
      "| 21.30758| -157.85542|      None|  1| 4916|\n",
      "|21.323745|-158.088613|      None|  2| 4947|\n",
      "|21.323745|-158.088613|      None|  1| 5047|\n",
      "|25.622049| -80.344255|      None|  1| 1776|\n",
      "| 25.68333| -80.399722|      None|  1| 2492|\n",
      "|25.785472| -80.284206|      None|  1|  170|\n",
      "|25.798709| -80.210048|      None|  1| 4560|\n",
      "|25.892518|  -97.49383|      None|  1| 2105|\n",
      "|26.053889| -80.256944|      None|  1| 4641|\n",
      "|26.128611| -80.167222|      None|  1| 1810|\n",
      "|26.132677| -80.169817|      None|  1| 4389|\n",
      "|27.501826| -99.502984|      None|  1| 1725|\n",
      "|27.579045| -99.523949|      None|  1| 4185|\n",
      "|27.834409| -82.665251|      None|  1| 4087|\n",
      "|27.892801| -82.680378|      None|  1| 2925|\n",
      "+---------+-----------+----------+---+-----+\n",
      "only showing top 20 rows\n",
      "\n"
     ]
    },
    {
     "name": "stderr",
     "output_type": "stream",
     "text": [
      "                                                                                \r"
     ]
    }
   ],
   "source": [
    "df_c.show()"
   ]
  },
  {
   "cell_type": "markdown",
   "id": "6b158928",
   "metadata": {},
   "source": [
    "# There are 358 different observation points in total"
   ]
  },
  {
   "cell_type": "code",
   "execution_count": 7,
   "id": "c401e3ea",
   "metadata": {},
   "outputs": [
    {
     "name": "stderr",
     "output_type": "stream",
     "text": [
      "                                                                                \r"
     ]
    },
    {
     "data": {
      "text/plain": [
       "358"
      ]
     },
     "execution_count": 7,
     "metadata": {},
     "output_type": "execute_result"
    }
   ],
   "source": [
    "df_c.count()"
   ]
  },
  {
   "cell_type": "code",
   "execution_count": 8,
   "id": "732174d8",
   "metadata": {},
   "outputs": [
    {
     "name": "stderr",
     "output_type": "stream",
     "text": [
      "                                                                                \r"
     ]
    },
    {
     "data": {
      "text/plain": [
       "[<matplotlib.lines.Line2D at 0x7fbb197b2a60>]"
      ]
     },
     "execution_count": 8,
     "metadata": {},
     "output_type": "execute_result"
    },
    {
     "data": {
      "image/png": "[encoded data removed]",
      "text/plain": [
       "<Figure size 432x288 with 1 Axes>"
      ]
     },
     "metadata": {
      "needs_background": "light"
     },
     "output_type": "display_data"
    }
   ],
   "source": [
    "df_address = df_c.toPandas()\n",
    "\n",
    "x = df_address['Latitude'].tolist()\n",
    "\n",
    "y = df_address['Longitude'].tolist()\n",
    "\n",
    "plt.scatter(x,y)\n",
    "plt.xlim([25,49])\n",
    "plt.ylim([-130,-70])\n",
    "plt.plot(40.46542,-79.960757,\"ro\")# location for Pittsburgh"
   ]
  },
  {
   "cell_type": "code",
   "execution_count": 9,
   "id": "d110f56a",
   "metadata": {},
   "outputs": [],
   "source": [
    "newdf = df.join(df_c,[\"Latitude\",\"Longitude\",\"POC\",\"Event Type\"]).orderBy([\"Latitude\",\"Longitude\",\"POC\"])"
   ]
  },
  {
   "cell_type": "markdown",
   "id": "03c486f4",
   "metadata": {},
   "source": [
    "# Get rid of the locations at which the monitors have less than 2350 observations \n",
    "\n",
    "\n",
    "newdf[\"count\"] > 2350"
   ]
  },
  {
   "cell_type": "code",
   "execution_count": 10,
   "id": "35c8dbdf",
   "metadata": {},
   "outputs": [
    {
     "name": "stderr",
     "output_type": "stream",
     "text": [
      "                                                                                \r"
     ]
    },
    {
     "data": {
      "text/plain": [
       "276"
      ]
     },
     "execution_count": 10,
     "metadata": {},
     "output_type": "execute_result"
    }
   ],
   "source": [
    "newdf_f = newdf.filter(newdf[\"count\"] > 2350)\n",
    "newdf_c = newdf_f.groupBy(\"Latitude\",\"Longitude\",\"POC\",\"Event Type\").count()\n",
    "newdf_c.count()"
   ]
  },
  {
   "cell_type": "code",
   "execution_count": 11,
   "id": "49944e75",
   "metadata": {},
   "outputs": [
    {
     "name": "stderr",
     "output_type": "stream",
     "text": [
      "                                                                                \r"
     ]
    },
    {
     "name": "stdout",
     "output_type": "stream",
     "text": [
      "num of points is 276\n"
     ]
    },
    {
     "data": {
      "image/png": "[encoded data removed]",
      "text/plain": [
       "<Figure size 432x288 with 1 Axes>"
      ]
     },
     "metadata": {
      "needs_background": "light"
     },
     "output_type": "display_data"
    }
   ],
   "source": [
    "df_address = newdf_c.toPandas()\n",
    "\n",
    "x = df_address['Latitude'].tolist()\n",
    "\n",
    "y = df_address['Longitude'].tolist()\n",
    "\n",
    "print(\"num of points is\",newdf_c.count())\n",
    "\n",
    "plt.scatter(x,y)\n",
    "plt.xlim([25,49])\n",
    "plt.ylim([-130,-70])\n",
    "plt.plot(40.46542,-79.960757,\"ro\")\n",
    "plt.show()"
   ]
  },
  {
   "cell_type": "code",
   "execution_count": 12,
   "id": "e7f1ceda",
   "metadata": {},
   "outputs": [
    {
     "name": "stdout",
     "output_type": "stream",
     "text": [
      "22/12/07 12:38:48 WARN package: Truncated the string representation of a plan since it was too large. This behavior can be adjusted by setting 'spark.sql.debug.maxToStringFields'.\n"
     ]
    }
   ],
   "source": [
    "newdf_c.createOrReplaceTempView('newdf_c')\n",
    "newdf_num = spark.sql('select row_number() over (order by \"Latitude\") as point_num, * from newdf_c')"
   ]
  },
  {
   "cell_type": "code",
   "execution_count": 13,
   "id": "506f7719",
   "metadata": {},
   "outputs": [],
   "source": [
    "df_filtered = newdf_f.join(newdf_num,[\"Latitude\",\"Longitude\",\"POC\",\"Event Type\",\"count\"]).orderBy(\"point_num\")"
   ]
  },
  {
   "cell_type": "code",
   "execution_count": 14,
   "id": "a142bf7b",
   "metadata": {},
   "outputs": [
    {
     "name": "stdout",
     "output_type": "stream",
     "text": [
      "root\n",
      " |-- Latitude: double (nullable = true)\n",
      " |-- Longitude: double (nullable = true)\n",
      " |-- POC: integer (nullable = true)\n",
      " |-- Event Type: string (nullable = true)\n",
      " |-- count: long (nullable = false)\n",
      " |-- State Code: integer (nullable = true)\n",
      " |-- County Code: integer (nullable = true)\n",
      " |-- Site Num: integer (nullable = true)\n",
      " |-- Parameter Code: integer (nullable = true)\n",
      " |-- Datum: string (nullable = true)\n",
      " |-- Parameter Name: string (nullable = true)\n",
      " |-- Sample Duration: string (nullable = true)\n",
      " |-- Pollutant Standard: string (nullable = true)\n",
      " |-- Date Local: timestamp (nullable = true)\n",
      " |-- Units of Measure: string (nullable = true)\n",
      " |-- Observation Count: integer (nullable = true)\n",
      " |-- Observation Percent: double (nullable = true)\n",
      " |-- Arithmetic Mean: double (nullable = true)\n",
      " |-- 1st Max Value: double (nullable = true)\n",
      " |-- 1st Max Hour: integer (nullable = true)\n",
      " |-- AQI: integer (nullable = true)\n",
      " |-- Method Code: integer (nullable = true)\n",
      " |-- Method Name: string (nullable = true)\n",
      " |-- Local Site Name: string (nullable = true)\n",
      " |-- Address: string (nullable = true)\n",
      " |-- State Name: string (nullable = true)\n",
      " |-- County Name: string (nullable = true)\n",
      " |-- City Name: string (nullable = true)\n",
      " |-- CBSA Name: string (nullable = true)\n",
      " |-- Date of Last Change: timestamp (nullable = true)\n",
      " |-- point_num: integer (nullable = false)\n",
      "\n"
     ]
    }
   ],
   "source": [
    "df_filtered.printSchema()"
   ]
  },
  {
   "cell_type": "code",
   "execution_count": 15,
   "id": "8ac4620e",
   "metadata": {},
   "outputs": [
    {
     "name": "stdout",
     "output_type": "stream",
     "text": [
      "22/12/07 12:38:49 WARN WindowExec: No Partition Defined for Window operation! Moving all data to a single partition, this can cause serious performance degradation.\n",
      "22/12/07 12:38:49 WARN WindowExec: No Partition Defined for Window operation! Moving all data to a single partition, this can cause serious performance degradation.\n"
     ]
    },
    {
     "name": "stderr",
     "output_type": "stream",
     "text": [
      "[Stage 54:===>(3 + 1) / 4][Stage 55:>   (0 + 0) / 4][Stage 56:>   (0 + 0) / 4]\r"
     ]
    },
    {
     "name": "stdout",
     "output_type": "stream",
     "text": [
      "22/12/07 12:38:55 WARN WindowExec: No Partition Defined for Window operation! Moving all data to a single partition, this can cause serious performance degradation.\n",
      "22/12/07 12:38:55 WARN WindowExec: No Partition Defined for Window operation! Moving all data to a single partition, this can cause serious performance degradation.\n"
     ]
    },
    {
     "name": "stderr",
     "output_type": "stream",
     "text": [
      "[Stage 55:=============>    (3 + 1) / 4][Stage 56:>                 (0 + 0) / 4]\r"
     ]
    },
    {
     "name": "stdout",
     "output_type": "stream",
     "text": [
      "22/12/07 12:38:58 WARN WindowExec: No Partition Defined for Window operation! Moving all data to a single partition, this can cause serious performance degradation.\n",
      "22/12/07 12:38:58 WARN WindowExec: No Partition Defined for Window operation! Moving all data to a single partition, this can cause serious performance degradation.\n"
     ]
    },
    {
     "name": "stderr",
     "output_type": "stream",
     "text": [
      "[Stage 56:===>(3 + 1) / 4][Stage 58:>   (0 + 0) / 1][Stage 59:>   (0 + 0) / 1]4]\r"
     ]
    },
    {
     "name": "stdout",
     "output_type": "stream",
     "text": [
      "22/12/07 12:39:01 WARN WindowExec: No Partition Defined for Window operation! Moving all data to a single partition, this can cause serious performance degradation.\n",
      "22/12/07 12:39:01 WARN WindowExec: No Partition Defined for Window operation! Moving all data to a single partition, this can cause serious performance degradation.\n",
      "22/12/07 12:39:01 WARN WindowExec: No Partition Defined for Window operation! Moving all data to a single partition, this can cause serious performance degradation.\n",
      "22/12/07 12:39:01 WARN WindowExec: No Partition Defined for Window operation! Moving all data to a single partition, this can cause serious performance degradation.\n",
      "22/12/07 12:39:01 WARN WindowExec: No Partition Defined for Window operation! Moving all data to a single partition, this can cause serious performance degradation.\n",
      "22/12/07 12:39:01 WARN WindowExec: No Partition Defined for Window operation! Moving all data to a single partition, this can cause serious performance degradation.\n"
     ]
    },
    {
     "name": "stderr",
     "output_type": "stream",
     "text": [
      "[Stage 61:>                 (0 + 1) / 1][Stage 63:>                 (0 + 0) / 1]\r"
     ]
    },
    {
     "name": "stdout",
     "output_type": "stream",
     "text": [
      "22/12/07 12:39:02 WARN WindowExec: No Partition Defined for Window operation! Moving all data to a single partition, this can cause serious performance degradation.\n",
      "22/12/07 12:39:02 WARN WindowExec: No Partition Defined for Window operation! Moving all data to a single partition, this can cause serious performance degradation.\n"
     ]
    },
    {
     "name": "stderr",
     "output_type": "stream",
     "text": [
      "[Stage 63:>                                                         (0 + 1) / 1]\r"
     ]
    },
    {
     "name": "stdout",
     "output_type": "stream",
     "text": [
      "22/12/07 12:39:02 WARN WindowExec: No Partition Defined for Window operation! Moving all data to a single partition, this can cause serious performance degradation.\n",
      "22/12/07 12:39:02 WARN WindowExec: No Partition Defined for Window operation! Moving all data to a single partition, this can cause serious performance degradation.\n",
      "22/12/07 12:39:02 WARN WindowExec: No Partition Defined for Window operation! Moving all data to a single partition, this can cause serious performance degradation.\n",
      "22/12/07 12:39:02 WARN WindowExec: No Partition Defined for Window operation! Moving all data to a single partition, this can cause serious performance degradation.\n"
     ]
    },
    {
     "name": "stderr",
     "output_type": "stream",
     "text": [
      "                                                                                \r"
     ]
    }
   ],
   "source": [
    "df_filtered.coalesce (1).write.option(\"header\",True).csv ('c')"
   ]
  },
  {
   "cell_type": "code",
   "execution_count": 16,
   "id": "5509d2b0",
   "metadata": {},
   "outputs": [
    {
     "name": "stderr",
     "output_type": "stream",
     "text": [
      "                                                                                \r"
     ]
    },
    {
     "data": {
      "text/plain": [
       "276"
      ]
     },
     "execution_count": 16,
     "metadata": {},
     "output_type": "execute_result"
    }
   ],
   "source": [
    "num = newdf_num.count()\n",
    "num"
   ]
  },
  {
   "cell_type": "code",
   "execution_count": 17,
   "id": "4cea6cb7",
   "metadata": {},
   "outputs": [
    {
     "name": "stdout",
     "output_type": "stream",
     "text": [
      "22/12/07 12:39:21 WARN WindowExec: No Partition Defined for Window operation! Moving all data to a single partition, this can cause serious performance degradation.\n",
      "22/12/07 12:39:21 WARN WindowExec: No Partition Defined for Window operation! Moving all data to a single partition, this can cause serious performance degradation.\n",
      "22/12/07 12:39:21 WARN WindowExec: No Partition Defined for Window operation! Moving all data to a single partition, this can cause serious performance degradation.\n"
     ]
    },
    {
     "name": "stderr",
     "output_type": "stream",
     "text": [
      "[Stage 87:=============>    (3 + 1) / 4][Stage 88:>                 (0 + 0) / 4]\r"
     ]
    },
    {
     "name": "stdout",
     "output_type": "stream",
     "text": [
      "22/12/07 12:39:24 WARN WindowExec: No Partition Defined for Window operation! Moving all data to a single partition, this can cause serious performance degradation.\n",
      "22/12/07 12:39:24 WARN WindowExec: No Partition Defined for Window operation! Moving all data to a single partition, this can cause serious performance degradation.\n"
     ]
    },
    {
     "name": "stderr",
     "output_type": "stream",
     "text": [
      "[Stage 88:===========================================>              (3 + 1) / 4]\r"
     ]
    },
    {
     "name": "stdout",
     "output_type": "stream",
     "text": [
      "22/12/07 12:39:26 WARN WindowExec: No Partition Defined for Window operation! Moving all data to a single partition, this can cause serious performance degradation.\n",
      "22/12/07 12:39:26 WARN WindowExec: No Partition Defined for Window operation! Moving all data to a single partition, this can cause serious performance degradation.\n",
      "22/12/07 12:39:27 WARN WindowExec: No Partition Defined for Window operation! Moving all data to a single partition, this can cause serious performance degradation.\n",
      "22/12/07 12:39:27 WARN WindowExec: No Partition Defined for Window operation! Moving all data to a single partition, this can cause serious performance degradation.\n"
     ]
    },
    {
     "name": "stderr",
     "output_type": "stream",
     "text": [
      "                                                                                \r"
     ]
    },
    {
     "name": "stdout",
     "output_type": "stream",
     "text": [
      "22/12/07 12:39:27 WARN WindowExec: No Partition Defined for Window operation! Moving all data to a single partition, this can cause serious performance degradation.\n",
      "22/12/07 12:39:27 WARN WindowExec: No Partition Defined for Window operation! Moving all data to a single partition, this can cause serious performance degradation.\n",
      "22/12/07 12:39:27 WARN WindowExec: No Partition Defined for Window operation! Moving all data to a single partition, this can cause serious performance degradation.\n",
      "22/12/07 12:39:27 WARN WindowExec: No Partition Defined for Window operation! Moving all data to a single partition, this can cause serious performance degradation.\n"
     ]
    }
   ],
   "source": [
    "Coordinates = newdf_num.toPandas().iloc[:num+1,1:3]"
   ]
  },
  {
   "cell_type": "markdown",
   "id": "251a5aac",
   "metadata": {},
   "source": [
    "# Generate coordinates and save them into a csv file"
   ]
  },
  {
   "cell_type": "code",
   "execution_count": 18,
   "id": "aa9aa370",
   "metadata": {},
   "outputs": [
    {
     "data": {
      "text/html": [
       "<div>\n",
       "<style scoped>\n",
       "    .dataframe tbody tr th:only-of-type {\n",
       "        vertical-align: middle;\n",
       "    }\n",
       "\n",
       "    .dataframe tbody tr th {\n",
       "        vertical-align: top;\n",
       "    }\n",
       "\n",
       "    .dataframe thead th {\n",
       "        text-align: right;\n",
       "    }\n",
       "</style>\n",
       "<table border=\"1\" class=\"dataframe\">\n",
       "  <thead>\n",
       "    <tr style=\"text-align: right;\">\n",
       "      <th></th>\n",
       "      <th>Latitude</th>\n",
       "      <th>Longitude</th>\n",
       "    </tr>\n",
       "  </thead>\n",
       "  <tbody>\n",
       "    <tr>\n",
       "      <th>0</th>\n",
       "      <td>43.466110</td>\n",
       "      <td>-88.621110</td>\n",
       "    </tr>\n",
       "    <tr>\n",
       "      <th>1</th>\n",
       "      <td>42.984173</td>\n",
       "      <td>-85.671339</td>\n",
       "    </tr>\n",
       "    <tr>\n",
       "      <th>2</th>\n",
       "      <td>42.385998</td>\n",
       "      <td>-83.266189</td>\n",
       "    </tr>\n",
       "    <tr>\n",
       "      <th>3</th>\n",
       "      <td>39.525083</td>\n",
       "      <td>-119.807717</td>\n",
       "    </tr>\n",
       "    <tr>\n",
       "      <th>4</th>\n",
       "      <td>36.139707</td>\n",
       "      <td>-115.175654</td>\n",
       "    </tr>\n",
       "    <tr>\n",
       "      <th>...</th>\n",
       "      <td>...</td>\n",
       "      <td>...</td>\n",
       "    </tr>\n",
       "    <tr>\n",
       "      <th>271</th>\n",
       "      <td>42.421502</td>\n",
       "      <td>-83.425042</td>\n",
       "    </tr>\n",
       "    <tr>\n",
       "      <th>272</th>\n",
       "      <td>39.064289</td>\n",
       "      <td>-108.561550</td>\n",
       "    </tr>\n",
       "    <tr>\n",
       "      <th>273</th>\n",
       "      <td>41.301400</td>\n",
       "      <td>-72.902871</td>\n",
       "    </tr>\n",
       "    <tr>\n",
       "      <th>274</th>\n",
       "      <td>29.670025</td>\n",
       "      <td>-95.128508</td>\n",
       "    </tr>\n",
       "    <tr>\n",
       "      <th>275</th>\n",
       "      <td>37.972310</td>\n",
       "      <td>-122.520004</td>\n",
       "    </tr>\n",
       "  </tbody>\n",
       "</table>\n",
       "<p>276 rows × 2 columns</p>\n",
       "</div>"
      ],
      "text/plain": [
       "      Latitude   Longitude\n",
       "0    43.466110  -88.621110\n",
       "1    42.984173  -85.671339\n",
       "2    42.385998  -83.266189\n",
       "3    39.525083 -119.807717\n",
       "4    36.139707 -115.175654\n",
       "..         ...         ...\n",
       "271  42.421502  -83.425042\n",
       "272  39.064289 -108.561550\n",
       "273  41.301400  -72.902871\n",
       "274  29.670025  -95.128508\n",
       "275  37.972310 -122.520004\n",
       "\n",
       "[276 rows x 2 columns]"
      ]
     },
     "execution_count": 18,
     "metadata": {},
     "output_type": "execute_result"
    }
   ],
   "source": [
    "Coordinates"
   ]
  },
  {
   "cell_type": "code",
   "execution_count": 19,
   "id": "f4f66a59",
   "metadata": {},
   "outputs": [],
   "source": [
    "a = Coordinates.to_numpy()"
   ]
  },
  {
   "cell_type": "code",
   "execution_count": 20,
   "id": "c31b58d7",
   "metadata": {},
   "outputs": [
    {
     "data": {
      "text/plain": [
       "(276, 2)"
      ]
     },
     "execution_count": 20,
     "metadata": {},
     "output_type": "execute_result"
    }
   ],
   "source": [
    "a.shape"
   ]
  },
  {
   "cell_type": "code",
   "execution_count": 21,
   "id": "661102ed",
   "metadata": {},
   "outputs": [],
   "source": [
    "Coordinates.to_csv('cord.csv',index=False)"
   ]
  },
  {
   "cell_type": "code",
   "execution_count": 22,
   "id": "e9c9b694",
   "metadata": {},
   "outputs": [
    {
     "name": "stderr",
     "output_type": "stream",
     "text": [
      "[Stage 100:==========================================>              (3 + 1) / 4]\r"
     ]
    },
    {
     "name": "stdout",
     "output_type": "stream",
     "text": [
      "+--------+---------+----------+----------+-----+\n",
      "|Site Num| Latitude| Longitude| City Name|count|\n",
      "+--------+---------+----------+----------+-----+\n",
      "|      31|40.443367|-79.990293|Pittsburgh| 4189|\n",
      "|       8| 40.46542|-79.960757|Pittsburgh| 4770|\n",
      "+--------+---------+----------+----------+-----+\n",
      "\n"
     ]
    },
    {
     "name": "stderr",
     "output_type": "stream",
     "text": [
      "                                                                                \r"
     ]
    }
   ],
   "source": [
    "\n",
    "df.groupBy(\"Site Num\",\"Latitude\",\"Longitude\",\"City Name\").count().where(df[\"City Name\"]== 'Pittsburgh').show()"
   ]
  },
  {
   "cell_type": "code",
   "execution_count": null,
   "id": "4459bd0e",
   "metadata": {},
   "outputs": [],
   "source": []
  }
 ],
 "metadata": {
  "kernelspec": {
   "display_name": "Python 3 (ipykernel)",
   "language": "python",
   "name": "python3"
  },
  "language_info": {
   "codemirror_mode": {
    "name": "ipython",
    "version": 3
   },
   "file_extension": ".py",
   "mimetype": "text/x-python",
   "name": "python",
   "nbconvert_exporter": "python",
   "pygments_lexer": "ipython3",
   "version": "3.9.12"
  }
 },
 "nbformat": 4,
 "nbformat_minor": 5
}
